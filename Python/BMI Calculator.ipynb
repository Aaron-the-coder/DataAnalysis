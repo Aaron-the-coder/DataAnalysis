{
 "cells": [
  {
   "cell_type": "markdown",
   "id": "d6b3c78c",
   "metadata": {},
   "source": [
    "# BMI Calculator"
   ]
  },
  {
   "cell_type": "code",
   "execution_count": 7,
   "id": "2b1cae25",
   "metadata": {},
   "outputs": [
    {
     "name": "stdout",
     "output_type": "stream",
     "text": [
      "Please enter your name:Aaron\n",
      "Please enter your weight in pounds:170\n",
      "Please enter your height in inches:69\n",
      "BMI:25.101869355177485\n",
      "Aaron is overweight\n"
     ]
    }
   ],
   "source": [
    "# EMI calculating expression:\n",
    "# BMI = (weight*703) / (height**2) # height unit is inches\n",
    "name = input('Please enter your name:')\n",
    "weight = int(input('Please enter your weight in pounds:'))\n",
    "height = int(input('Please enter your height in inches:'))\n",
    "BMI = (weight*703) / (height**2)\n",
    "print('BMI:'+str(BMI))\n",
    "if BMI > 0:\n",
    "    if BMI<18.5:\n",
    "        print(name+\" is underweight\")\n",
    "    elif BMI<24.9:\n",
    "        print(name+\" is normal weight\")\n",
    "    elif BMI<29.9:\n",
    "        print(name+\" is overweight\")\n",
    "    else:\n",
    "        print(name+\" is obesity\")\n",
    "else:\n",
    "    print('Invalid BMI')"
   ]
  },
  {
   "cell_type": "code",
   "execution_count": null,
   "id": "a6aa2654",
   "metadata": {},
   "outputs": [],
   "source": []
  },
  {
   "cell_type": "code",
   "execution_count": null,
   "id": "738d9883",
   "metadata": {},
   "outputs": [],
   "source": []
  },
  {
   "cell_type": "code",
   "execution_count": null,
   "id": "888fe03a",
   "metadata": {},
   "outputs": [],
   "source": []
  },
  {
   "cell_type": "code",
   "execution_count": null,
   "id": "f35faa86",
   "metadata": {},
   "outputs": [],
   "source": []
  },
  {
   "cell_type": "code",
   "execution_count": null,
   "id": "63cea4bd",
   "metadata": {},
   "outputs": [],
   "source": []
  },
  {
   "cell_type": "code",
   "execution_count": null,
   "id": "8ab0d5c7",
   "metadata": {},
   "outputs": [],
   "source": []
  }
 ],
 "metadata": {
  "kernelspec": {
   "display_name": "Python 3 (ipykernel)",
   "language": "python",
   "name": "python3"
  },
  "language_info": {
   "codemirror_mode": {
    "name": "ipython",
    "version": 3
   },
   "file_extension": ".py",
   "mimetype": "text/x-python",
   "name": "python",
   "nbconvert_exporter": "python",
   "pygments_lexer": "ipython3",
   "version": "3.10.9"
  }
 },
 "nbformat": 4,
 "nbformat_minor": 5
}
