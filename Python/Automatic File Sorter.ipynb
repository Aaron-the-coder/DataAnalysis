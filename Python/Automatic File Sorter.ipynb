{
 "cells": [
  {
   "cell_type": "code",
   "execution_count": 1,
   "id": "a7435481",
   "metadata": {},
   "outputs": [],
   "source": [
    "# os Operating system commands\n",
    "# shutil: file operation related utils\n",
    "import os, shutil"
   ]
  },
  {
   "cell_type": "code",
   "execution_count": 17,
   "id": "8ffcfde5",
   "metadata": {
    "scrolled": true
   },
   "outputs": [],
   "source": [
    "# parent folder path\n",
    "path=r\"E:/fileSorterDemo/\"\n",
    "# folder names for different files\n",
    "folder_names=['pictures','spread sheets','logs','movies']\n",
    "# get all the file names in the path\n",
    "file_names = os.listdir(path)"
   ]
  },
  {
   "cell_type": "code",
   "execution_count": 11,
   "id": "51d7119b",
   "metadata": {},
   "outputs": [],
   "source": [
    "# traverse folders.If not exists, then create it\n",
    "for i in range(0,len(folder_names)):\n",
    "    dir_path = path+folder_names[i]\n",
    "    if not os.path.exists(dir_path):\n",
    "        os.makedirs(dir_path)"
   ]
  },
  {
   "cell_type": "code",
   "execution_count": 18,
   "id": "46aead7d",
   "metadata": {},
   "outputs": [
    {
     "name": "stdout",
     "output_type": "stream",
     "text": [
      "File sorting completed!\n"
     ]
    }
   ],
   "source": [
    "# Traverse file names\n",
    "for file in file_names:\n",
    "    # file not in the corresponding folder yet\n",
    "    new_log_path = path+'logs/'+file\n",
    "    new_img_path = path+'pictures/'+file\n",
    "    new_movie_path = path+'movies/'+file\n",
    "    new_excel_path = path+'spread sheets/'+file\n",
    "    if '.log' in file and not os.path.exists(new_log_path):\n",
    "        # move the file to the correct folder\n",
    "        shutil.move(path+file, new_log_path)\n",
    "    elif '.JPG' in file and not os.path.exists(new_img_path):\n",
    "        # move the file to the correct folder\n",
    "        shutil.move(path+file, new_img_path)\n",
    "    elif '.xlsx' in file and not os.path.exists(new_excel_path):\n",
    "        # move the file to the correct folder\n",
    "        shutil.move(path+file, new_excel_path)\n",
    "    elif '.MOV' in file and not os.path.exists(new_movie_path):\n",
    "        # move the file to the correct folder\n",
    "        shutil.move(path+file, new_movie_path)\n",
    "else:\n",
    "    print('File sorting completed!')\n",
    "\n",
    "\n"
   ]
  },
  {
   "cell_type": "code",
   "execution_count": null,
   "id": "9268e343",
   "metadata": {},
   "outputs": [],
   "source": []
  },
  {
   "cell_type": "code",
   "execution_count": null,
   "id": "83eab19d",
   "metadata": {},
   "outputs": [],
   "source": []
  },
  {
   "cell_type": "code",
   "execution_count": null,
   "id": "215e779f",
   "metadata": {},
   "outputs": [],
   "source": []
  },
  {
   "cell_type": "code",
   "execution_count": null,
   "id": "71fa44dc",
   "metadata": {},
   "outputs": [],
   "source": []
  }
 ],
 "metadata": {
  "kernelspec": {
   "display_name": "Python 3 (ipykernel)",
   "language": "python",
   "name": "python3"
  },
  "language_info": {
   "codemirror_mode": {
    "name": "ipython",
    "version": 3
   },
   "file_extension": ".py",
   "mimetype": "text/x-python",
   "name": "python",
   "nbconvert_exporter": "python",
   "pygments_lexer": "ipython3",
   "version": "3.10.9"
  }
 },
 "nbformat": 4,
 "nbformat_minor": 5
}
